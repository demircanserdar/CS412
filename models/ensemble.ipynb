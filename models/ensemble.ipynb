{
 "cells": [
  {
   "cell_type": "code",
   "execution_count": null,
   "metadata": {},
   "outputs": [],
   "source": []
  },
  {
   "cell_type": "code",
   "execution_count": 9,
   "metadata": {},
   "outputs": [
    {
     "name": "stdout",
     "output_type": "stream",
     "text": [
      "Final dataset created and saved as 'final_dataset.csv'\n"
     ]
    }
   ],
   "source": [
    "import pandas as pd\n",
    "\n",
    "file_paths = [\n",
    "    \"./predictions/logistic_regression_prediction.csv\",\n",
    "    \"./predictions/predicted2_bugs.csv\",\n",
    "    \"./predictions/predictions_random_forest.csv\",\n",
    "    \"./predictions/predictions_weighted_random_forest.csv\",\n",
    "    \"./predictions/RUSBoost.csv\"\n",
    "]\n",
    "dataframes = [pd.read_csv(path) for path in file_paths]\n",
    "\n",
    "merged_df = dataframes[0][['bug_id', 'severity']].rename(columns={'severity': 'severity_1'})\n",
    "for i in range(1, 5):\n",
    "    merged_df = merged_df.merge(\n",
    "        dataframes[i][['bug_id', 'severity']].rename(columns={'severity': f'severity_{i+1}'}),\n",
    "        on='bug_id',\n",
    "        how='outer'\n",
    "    )\n",
    "\n",
    "def majority_vote(row):\n",
    "    # Drop NaN values if any and get votes\n",
    "    votes = [vote for vote in row[1:] if pd.notna(vote)]\n",
    "    if votes:  # check if there are any votes to process\n",
    "        return max(set(votes), key=votes.count)\n",
    "    return None\n",
    "\n",
    "merged_df['majority_severity'] = merged_df.apply(majority_vote, axis=1)\n",
    "\n",
    "final_df = merged_df[['bug_id', 'majority_severity']].rename(columns={'majority_severity': 'severity'})\n",
    "\n",
    "final_df.to_csv('./predictions/final_dataset.csv', index=False)\n",
    "print(\"Final dataset created and saved as 'final_dataset.csv'\")\n"
   ]
  },
  {
   "cell_type": "code",
   "execution_count": 11,
   "metadata": {},
   "outputs": [
    {
     "name": "stdout",
     "output_type": "stream",
     "text": [
      "Final dataset created and saved as 'final_dataset.csv'\n"
     ]
    }
   ],
   "source": [
    "import pandas as pd\n",
    "\n",
    "file_paths = [\n",
    "    \"./VOTE_MODELS/bert3-92.csv\",\n",
    "    \"./VOTE_MODELS/result11-9.csv\",\n",
    "    \"./VOTE_MODELS/result11-92.csv\",\n",
    "    \"./VOTE_MODELS/result11.csv\",\n",
    "    \"./VOTE_MODELS/result7.csv\",\n",
    "    \"./VOTE_MODELS/result8.csv\",\n",
    "    \"./VOTE_MODELS/result9.csv\",\n",
    "]\n",
    "dataframes = [pd.read_csv(path) for path in file_paths]\n",
    "\n",
    "merged_df = dataframes[0][['bug_id', 'severity']].rename(columns={'severity': 'severity_1'})\n",
    "for i in range(1, 5):\n",
    "    merged_df = merged_df.merge(\n",
    "        dataframes[i][['bug_id', 'severity']].rename(columns={'severity': f'severity_{i+1}'}),\n",
    "        on='bug_id',\n",
    "        how='outer'\n",
    "    )\n",
    "\n",
    "def majority_vote(row):\n",
    "    # Drop NaN values if any and get votes\n",
    "    votes = [vote for vote in row[1:] if pd.notna(vote)]\n",
    "    if votes:  # check if there are any votes to process\n",
    "        return max(set(votes), key=votes.count)\n",
    "    return None\n",
    "\n",
    "merged_df['majority_severity'] = merged_df.apply(majority_vote, axis=1)\n",
    "\n",
    "final_df = merged_df[['bug_id', 'majority_severity']].rename(columns={'majority_severity': 'severity'})\n",
    "\n",
    "final_df.to_csv('./predictions/final2_dataset.csv', index=False)\n",
    "print(\"Final dataset created and saved as 'final_dataset.csv'\")\n"
   ]
  },
  {
   "cell_type": "code",
   "execution_count": null,
   "metadata": {},
   "outputs": [],
   "source": [
    "import pandas as pd\n",
    "\n",
    "file_paths = [\n",
    "    \"./VOTE_MODELS/bert3-92.csv\",\n",
    "    \"./VOTE_MODELS/result11-9.csv\",\n",
    "    \"./VOTE_MODELS/result11-92.csv\",\n",
    "    \"./VOTE_MODELS/result11.csv\",\n",
    "    \"./VOTE_MODELS/result7.csv\",\n",
    "    \"./VOTE_MODELS/result8.csv\",\n",
    "    \"./VOTE_MODELS/result9.csv\",\n",
    "    \"./predictions/logistic_regression_prediction.csv\",\n",
    "    \"./predictions/predicted2_bugs.csv\",\n",
    "    \"./predictions/predictions_random_forest.csv\",\n",
    "    \"./predictions/RUSBoost.csv\"\n",
    "]\n",
    "dataframes = [pd.read_csv(path) for path in file_paths]\n",
    "\n",
    "merged_df = dataframes[0][['bug_id', 'severity']].rename(columns={'severity': 'severity_1'})\n",
    "for i in range(1, 5):\n",
    "    merged_df = merged_df.merge(\n",
    "        dataframes[i][['bug_id', 'severity']].rename(columns={'severity': f'severity_{i+1}'}),\n",
    "        on='bug_id',\n",
    "        how='outer'\n",
    "    )\n",
    "\n",
    "\n",
    "def majority_vote(row):\n",
    "    votes = [vote for vote in row[1:] if pd.notna(vote)]\n",
    "    if votes:  # check if there are any votes to process\n",
    "        return max(set(votes), key=votes.count)\n",
    "    return None\n",
    "\n",
    "# Apply the voting mechanism to the merged data\n",
    "merged_df['majority_severity'] = merged_df.apply(majority_vote, axis=1)\n",
    "\n",
    "# Create the final dataset\n",
    "final_df = merged_df[['bug_id', 'majority_severity']].rename(columns={'majority_severity': 'severity'})\n",
    "\n",
    "# Save the final dataset\n",
    "final_df.to_csv('./predictions/final3_dataset.csv', index=False)\n",
    "print(\"Final dataset created and saved as 'final_dataset.csv'\")\n"
   ]
  }
 ],
 "metadata": {
  "kernelspec": {
   "display_name": "Python 3",
   "language": "python",
   "name": "python3"
  },
  "language_info": {
   "codemirror_mode": {
    "name": "ipython",
    "version": 3
   },
   "file_extension": ".py",
   "mimetype": "text/x-python",
   "name": "python",
   "nbconvert_exporter": "python",
   "pygments_lexer": "ipython3",
   "version": "3.9.6"
  }
 },
 "nbformat": 4,
 "nbformat_minor": 2
}
