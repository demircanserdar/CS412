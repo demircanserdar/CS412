{
 "cells": [
  {
   "cell_type": "code",
   "execution_count": 7,
   "metadata": {},
   "outputs": [],
   "source": [
    "\n",
    "import os\n",
    "import pandas as pd\n",
    "import xgboost as xgb\n",
    "import lightgbm as lgb\n",
    "from sklearn.feature_extraction.text import TfidfVectorizer\n",
    "from sklearn.metrics import classification_report, precision_score\n",
    "from sklearn.model_selection import GridSearchCV\n",
    "from sklearn.pipeline import Pipeline\n",
    "from sklearn.preprocessing import LabelEncoder"
   ]
  },
  {
   "cell_type": "code",
   "execution_count": 8,
   "metadata": {},
   "outputs": [],
   "source": [
    "os.chdir('/Users/hayrettinsendag/Documents/GitHub/412proj')  \n",
    "train_data = pd.read_csv('data/bugs-train.csv')\n",
    "test_data = pd.read_csv('data/bugs-test.csv')"
   ]
  },
  {
   "cell_type": "code",
   "execution_count": 9,
   "metadata": {},
   "outputs": [],
   "source": [
    "\n",
    "severity_mapping = {\n",
    "    'enhancement': 0,\n",
    "    'trivial': 1,\n",
    "    'minor': 2,\n",
    "    'normal': 3,\n",
    "    'major': 4,\n",
    "    'blocker': 5,\n",
    "    'critical': 6\n",
    "}\n",
    "\n",
    "inverse_severity_mapping = {v: k for k, v in severity_mapping.items()}\n",
    "train_data['severity'] = train_data['severity'].map(severity_mapping)\n",
    "\n",
    "\n",
    "X_train = train_data['summary']\n",
    "y_train = train_data['severity']\n",
    "X_test = test_data['summary']\n",
    "\n",
    "vectorizer = TfidfVectorizer(max_features=1000, ngram_range=(1, 2))\n",
    "X_train_tfidf = vectorizer.fit_transform(X_train)\n",
    "X_test_tfidf = vectorizer.transform(X_test)\n",
    "\n"
   ]
  },
  {
   "cell_type": "code",
   "execution_count": 10,
   "metadata": {},
   "outputs": [
    {
     "name": "stdout",
     "output_type": "stream",
     "text": [
      "XGBoost Classification Report:\n",
      "               precision    recall  f1-score   support\n",
      "\n",
      "           0       0.95      0.03      0.05      4426\n",
      "           1       1.00      0.02      0.03      1204\n",
      "           2       0.97      0.01      0.02      3102\n",
      "           3       0.87      0.98      0.92    125854\n",
      "           4       0.82      0.09      0.15      6053\n",
      "           5       1.00      0.13      0.23       701\n",
      "           6       0.83      0.79      0.81     18658\n",
      "\n",
      "    accuracy                           0.87    159998\n",
      "   macro avg       0.92      0.29      0.32    159998\n",
      "weighted avg       0.87      0.87      0.83    159998\n",
      "\n",
      "Macro Precision XGBoost: 0.9196060414978662\n"
     ]
    }
   ],
   "source": [
    "\n",
    "xgb_model = xgb.XGBClassifier(objective='multi:softmax', num_class=7)\n",
    "xgb_model.fit(X_train_tfidf, y_train)\n",
    "\n",
    "\n",
    "y_pred_xgb = xgb_model.predict(X_train_tfidf)\n",
    "print(\"XGBoost Classification Report:\\n\", classification_report(y_train, y_pred_xgb))\n",
    "print(\"Macro Precision XGBoost:\", precision_score(y_train, y_pred_xgb, average='macro'))\n"
   ]
  },
  {
   "cell_type": "code",
   "execution_count": 11,
   "metadata": {},
   "outputs": [
    {
     "name": "stdout",
     "output_type": "stream",
     "text": [
      "[LightGBM] [Info] Auto-choosing col-wise multi-threading, the overhead of testing was 0.127967 seconds.\n",
      "You can set `force_col_wise=true` to remove the overhead.\n",
      "[LightGBM] [Info] Total Bins 176138\n",
      "[LightGBM] [Info] Number of data points in the train set: 159998, number of used features: 1000\n",
      "[LightGBM] [Info] Start training from score -3.587665\n",
      "[LightGBM] [Info] Start training from score -4.889512\n",
      "[LightGBM] [Info] Start training from score -3.943114\n",
      "[LightGBM] [Info] Start training from score -0.240039\n",
      "[LightGBM] [Info] Start training from score -3.274607\n",
      "[LightGBM] [Info] Start training from score -5.430409\n",
      "[LightGBM] [Info] Start training from score -2.148886\n",
      "LightGBM Classification Report:\n",
      "               precision    recall  f1-score   support\n",
      "\n",
      "           0       0.87      0.03      0.05      4426\n",
      "           1       0.92      0.04      0.08      1204\n",
      "           2       0.78      0.01      0.03      3102\n",
      "           3       0.87      0.98      0.92    125854\n",
      "           4       0.75      0.07      0.13      6053\n",
      "           5       0.94      0.19      0.31       701\n",
      "           6       0.81      0.79      0.80     18658\n",
      "\n",
      "    accuracy                           0.87    159998\n",
      "   macro avg       0.85      0.30      0.33    159998\n",
      "weighted avg       0.86      0.87      0.83    159998\n",
      "\n",
      "Macro Precision LightGBM: 0.8501818614425717\n"
     ]
    }
   ],
   "source": [
    "# Train LightGBM model\n",
    "lgb_model = lgb.LGBMClassifier(objective='multiclass', num_class=7)\n",
    "lgb_model.fit(X_train_tfidf, y_train)\n",
    "\n",
    "# Predict and evaluate LightGBM model on the training data\n",
    "y_pred_lgb = lgb_model.predict(X_train_tfidf)\n",
    "print(\"LightGBM Classification Report:\\n\", classification_report(y_train, y_pred_lgb))\n",
    "print(\"Macro Precision LightGBM:\", precision_score(y_train, y_pred_lgb, average='macro'))"
   ]
  },
  {
   "cell_type": "code",
   "execution_count": 13,
   "metadata": {},
   "outputs": [],
   "source": [
    "\n",
    "y_test_pred = lgb_model.predict(X_test_tfidf)\n",
    "\n",
    "\n",
    "y_test_pred_labels = [inverse_severity_mapping[pred] for pred in y_test_pred]\n",
    "\n",
    "\n",
    "assert len(test_data) == 86094, f\"Test data should have 86094 rows, but has {len(test_data)} rows.\"\n",
    "\n",
    "submission = pd.DataFrame({'bug_id': test_data['bug_id'], 'severity': y_test_pred_labels})\n",
    "submission.to_csv('submission.csv', index=False)"
   ]
  }
 ],
 "metadata": {
  "kernelspec": {
   "display_name": "cs412env",
   "language": "python",
   "name": "python3"
  },
  "language_info": {
   "codemirror_mode": {
    "name": "ipython",
    "version": 3
   },
   "file_extension": ".py",
   "mimetype": "text/x-python",
   "name": "python",
   "nbconvert_exporter": "python",
   "pygments_lexer": "ipython3",
   "version": "3.11.9"
  }
 },
 "nbformat": 4,
 "nbformat_minor": 2
}
