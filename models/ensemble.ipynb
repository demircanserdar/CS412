{
 "cells": [
  {
   "cell_type": "code",
   "execution_count": null,
   "metadata": {},
   "outputs": [],
   "source": []
  },
  {
   "cell_type": "code",
   "execution_count": null,
   "metadata": {},
   "outputs": [],
   "source": [
    "\n",
    "#EMİN DEĞİLİM BU KODDAN\n",
    "\n",
    "\n",
    "import pandas as pd\n",
    "\n",
    "# Load the datasets\n",
    "datasets = []\n",
    "for i in range(1, 7):\n",
    "    df = pd.read_csv(f'dataset_{i}.csv')\n",
    "    datasets.append(df)\n",
    "\n",
    "# Merge datasets on 'bug_id'\n",
    "merged_df = datasets[0][['bug_id', 'label']].rename(columns={'label': 'label_1'})\n",
    "for i in range(1, 6):\n",
    "    merged_df = merged_df.merge(\n",
    "        datasets[i][['bug_id', 'label']].rename(columns={'label': f'label_{i+1}'}),\n",
    "        on='bug_id',\n",
    "        how='outer'\n",
    "    )\n",
    "\n",
    "# Voting mechanism\n",
    "def majority_vote(row):\n",
    "    votes = row.dropna().values.tolist()  # Drop NaN values if any\n",
    "    return max(set(votes), key=votes.count)\n",
    "\n",
    "merged_df['majority_label'] = merged_df.apply(majority_vote, axis=1)\n",
    "\n",
    "# Create the final dataset\n",
    "final_df = merged_df[['bug_id', 'majority_label']]\n",
    "final_df.rename(columns={'majority_label': 'label'}, inplace=True)\n",
    "\n",
    "# Save the final dataset\n",
    "final_df.to_csv('final_dataset.csv', index=False)\n",
    "print(\"Final dataset created and saved as 'final_dataset.csv'\")"
   ]
  },
  {
   "cell_type": "code",
   "execution_count": null,
   "metadata": {},
   "outputs": [],
   "source": []
  }
 ],
 "metadata": {
  "language_info": {
   "name": "python"
  }
 },
 "nbformat": 4,
 "nbformat_minor": 2
}
